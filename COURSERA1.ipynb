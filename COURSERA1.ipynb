{
  "metadata": {
    "kernelspec": {
      "name": "python",
      "display_name": "Python (Pyodide)",
      "language": "python"
    },
    "language_info": {
      "codemirror_mode": {
        "name": "python",
        "version": 3
      },
      "file_extension": ".py",
      "mimetype": "text/x-python",
      "name": "python",
      "nbconvert_exporter": "python",
      "pygments_lexer": "ipython3",
      "version": "3.8"
    }
  },
  "nbformat_minor": 4,
  "nbformat": 4,
  "cells": [
    {
      "cell_type": "markdown",
      "source": "# FIRST TASK",
      "metadata": {}
    },
    {
      "cell_type": "markdown",
      "source": "## INTRODUCTION",
      "metadata": {}
    },
    {
      "cell_type": "markdown",
      "source": "### TYPE OF SCIENCE LANGUAJE\n1. **Python**\n2. **R**\n3. **SQL**\n4. **Julia**",
      "metadata": {}
    },
    {
      "cell_type": "markdown",
      "source": "### list data science libraries\n- **Pandas**: \n\n- **NumPy**: \n\n- **SciPy**: \n\n- **Matplotlib**: \n\n- **Seaborn**: \n\n- **ggplot2**: \n\n- **dplyr**: \n\n- **TensorFlow**: \n\n- **PyTorch**: \n",
      "metadata": {}
    },
    {
      "cell_type": "markdown",
      "source": "## Data Science Tools\n\n| Tool           | Description                                              | Language       |\n|----|------------------|------|\n| **Jupyter Notebook** | An interactive web application for creating and sharing documents with live code, equations, visualizations, and narrative text. | Python, R, Julia |\n| **RStudio**        | An integrated development environment for R, designed for data analysis, visualization, and statistical computing. | R              |\n| **Pandas**         | A Python library providing data structures and data analysis tools for Python programming. | Python         |\n| **NumPy**          | A library for numerical computing in Python, supporting large, multi-dimensional arrays and matrices. | Python         |\n| **SciPy**          | A Python library used for scientific and technical computing, building on NumPy. | Python         |\n| **Matplotlib**     | A Python library for creating static, animated, and interactive visualizations. | Python         |\n| **ggplot2**        | An R package for creating complex plots based on the grammar of graphics. | R              |\n| **TensorFlow**     | An open-source framework for machine learning and neural network development. | Python         |\n| **PyTorch**        | A deep learning framework offering dynamic computation graphs and efficient numerical computation. | Python         |\n| **Apache Spark**   | An open-source unified analytics engine for large-scale data processing and machine learning. | Scala, Python, R |\n| **SQL**            | A language used for managing and querying relational databases. | SQL            |\n",
      "metadata": {}
    },
    {
      "cell_type": "markdown",
      "source": "## Arithmetic Expression Examples\n\nIn Data Science and programming, arithmetic expressions are used to perform calculations. Below are some examples of basic arithmetic operations:\n\n- **Addition**: `5 + 3 = 8`\n- **Subtraction**: `10 - 4 = 6`\n- **Multiplication**: `7 * 2 = 14`\n- **Division**: `20 / 5 = 4`\n- **Exponentiation**: `3^2 = 9`\n\nThese expressions can be used in Python, R, or any other programming language for performing numerical calculations.\n",
      "metadata": {}
    },
    {
      "cell_type": "code",
      "source": "#define numbers\na= 3\nb= 20\nc= 35\n\n#create the code\n\nsolution1 = a*c+b\nsolution2 = a*b+c\n\n#type the result\n\nprint(f\"multiplication of {a} and {c} added to {b}:\")\nprint(f\"{solution1}\")\n\nprint(f\"multiplication of {a} and {b} added to {c}:\")\nprint(f\"{solution2}\")\n",
      "metadata": {
        "trusted": true
      },
      "outputs": [
        {
          "name": "stdout",
          "text": "multiplication of 3 and 35 added to 20:\n125\nmultiplication of 3 and 20 added to 35:\n95\n",
          "output_type": "stream"
        }
      ],
      "execution_count": 7
    },
    {
      "cell_type": "code",
      "source": "#first create a def\n\ndef minutes_to_hours_and_minutes(minutes):\n    hours = minutes//60\n    remain_minutes = minutes%60\n    return hours,remain_minutes\n\nminutes = 340\nhours, remain_minutes = minutes_to_hours_and_minutes(minutes)\nprint(f\"{minutes} minutes is equal to {hours} hours and {remain_minutes} minutes.\")\n\n    ",
      "metadata": {
        "trusted": true
      },
      "outputs": [
        {
          "name": "stdout",
          "text": "340 minutes is equal to 5 hours and 40 minutes.\n",
          "output_type": "stream"
        }
      ],
      "execution_count": 17
    },
    {
      "cell_type": "markdown",
      "source": "## Objectives\n\n1. **Understand the Basics of Data Science**: Learn the fundamental concepts and techniques used in data science.\n2. **Learn Programming Languages**: Gain proficiency in programming languages commonly used in data science, such as Python and R.\n3. **Explore Data Visualization**: Understand how to create visualizations to effectively communicate data insights.\n4. **Apply Machine Learning Algorithms**: Learn how to implement and use machine learning algorithms for predictive modeling.\n5. **Work with Data Management Tools**: Get familiar with tools and technologies used for data storage, manipulation, and analysis.\n6. **Develop Practical Projects**: Apply learned concepts to real-world data science projects to gain hands-on experience.\n",
      "metadata": {}
    },
    {
      "cell_type": "markdown",
      "source": "## Author\n\n**Name:** Antonny Gutierrez Valdez\n",
      "metadata": {}
    },
    {
      "cell_type": "code",
      "source": "",
      "metadata": {
        "trusted": true
      },
      "outputs": [],
      "execution_count": null
    }
  ]
}